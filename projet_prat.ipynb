{
  "nbformat": 4,
  "nbformat_minor": 0,
  "metadata": {
    "colab": {
      "name": "projet prat",
      "provenance": [],
      "collapsed_sections": [],
      "include_colab_link": true
    },
    "kernelspec": {
      "name": "python3",
      "display_name": "Python 3"
    },
    "accelerator": "GPU"
  },
  "cells": [
    {
      "cell_type": "markdown",
      "metadata": {
        "id": "view-in-github",
        "colab_type": "text"
      },
      "source": [
        "<a href=\"https://colab.research.google.com/github/Wassouli/ARFlow/blob/master/projet_prat.ipynb\" target=\"_parent\"><img src=\"https://colab.research.google.com/assets/colab-badge.svg\" alt=\"Open In Colab\"/></a>"
      ]
    },
    {
      "cell_type": "code",
      "metadata": {
        "colab": {
          "base_uri": "https://localhost:8080/"
        },
        "id": "v_aZmmMDntKV",
        "outputId": "626ecd1c-7ed5-478f-9784-5080deeac681"
      },
      "source": [
        "!pip install \"pillow<7\"\r\n",
        "#apres ça rohi l exectuion lfo9 => modifier le type dexecution w dirih gp*u"
      ],
      "execution_count": 7,
      "outputs": [
        {
          "output_type": "stream",
          "text": [
            "Requirement already satisfied: pillow<7 in /usr/local/lib/python3.6/dist-packages (6.2.2)\n"
          ],
          "name": "stdout"
        }
      ]
    },
    {
      "cell_type": "code",
      "metadata": {
        "colab": {
          "base_uri": "https://localhost:8080/"
        },
        "id": "Adeb0JhEP6Ql",
        "outputId": "1fa2eeee-ec5b-46d3-e0c0-d1854c9e1f40"
      },
      "source": [
        "from google.colab import drive\n",
        "drive.mount('/content/drive')"
      ],
      "execution_count": 8,
      "outputs": [
        {
          "output_type": "stream",
          "text": [
            "Drive already mounted at /content/drive; to attempt to forcibly remount, call drive.mount(\"/content/drive\", force_remount=True).\n"
          ],
          "name": "stdout"
        }
      ]
    },
    {
      "cell_type": "code",
      "metadata": {
        "colab": {
          "base_uri": "https://localhost:8080/"
        },
        "id": "cRoSYprjc8R2",
        "outputId": "b64e398f-c72e-4bc0-d6c0-e985de433dcf"
      },
      "source": [
        "! git clone https://github.com/lliuz/ARFlow"
      ],
      "execution_count": 9,
      "outputs": [
        {
          "output_type": "stream",
          "text": [
            "Cloning into 'ARFlow'...\n",
            "remote: Enumerating objects: 54, done.\u001b[K\n",
            "remote: Counting objects: 100% (54/54), done.\u001b[K\n",
            "remote: Compressing objects: 100% (43/43), done.\u001b[K\n",
            "remote: Total 122 (delta 19), reused 35 (delta 11), pack-reused 68\n",
            "Receiving objects: 100% (122/122), 75.69 MiB | 19.53 MiB/s, done.\n",
            "Resolving deltas: 100% (22/22), done.\n"
          ],
          "name": "stdout"
        }
      ]
    },
    {
      "cell_type": "code",
      "metadata": {
        "colab": {
          "base_uri": "https://localhost:8080/"
        },
        "id": "tdc1Ut_rc9cE",
        "outputId": "e0326157-30d3-4079-ad0c-fae54e72b4a0"
      },
      "source": [
        "pip install Path"
      ],
      "execution_count": 4,
      "outputs": [
        {
          "output_type": "stream",
          "text": [
            "Collecting Path\n",
            "  Downloading https://files.pythonhosted.org/packages/ee/11/9f51c02c14cdd29383bd3a880d472a22629e090fbd1415075c979ff76d94/path-15.0.1-py3-none-any.whl\n",
            "Installing collected packages: Path\n",
            "Successfully installed Path-15.0.1\n"
          ],
          "name": "stdout"
        }
      ]
    },
    {
      "cell_type": "code",
      "metadata": {
        "colab": {
          "base_uri": "https://localhost:8080/"
        },
        "id": "bx0bVy25dB2X",
        "outputId": "de320552-cac0-4803-8f0a-a9eb4eb35b65"
      },
      "source": [
        "cd ARFlow/"
      ],
      "execution_count": 5,
      "outputs": [
        {
          "output_type": "stream",
          "text": [
            "/content/ARFlow\n"
          ],
          "name": "stdout"
        }
      ]
    },
    {
      "cell_type": "code",
      "metadata": {
        "colab": {
          "base_uri": "https://localhost:8080/"
        },
        "id": "2HQ8GJ-bdELZ",
        "outputId": "f04699f6-cd99-4123-d74e-be1a72e0fe31"
      },
      "source": [
        "pip install -r requirements.txt\r\n"
      ],
      "execution_count": 6,
      "outputs": [
        {
          "output_type": "stream",
          "text": [
            "Requirement already satisfied: imageio in /usr/local/lib/python3.6/dist-packages (from -r requirements.txt (line 1)) (2.4.1)\n",
            "Requirement already satisfied: matplotlib in /usr/local/lib/python3.6/dist-packages (from -r requirements.txt (line 2)) (3.2.2)\n",
            "Requirement already satisfied: scikit-image in /usr/local/lib/python3.6/dist-packages (from -r requirements.txt (line 3)) (0.16.2)\n",
            "Requirement already satisfied: easydict in /usr/local/lib/python3.6/dist-packages (from -r requirements.txt (line 4)) (1.9)\n",
            "Collecting torch==1.1.0\n",
            "\u001b[?25l  Downloading https://files.pythonhosted.org/packages/69/60/f685fb2cfb3088736bafbc9bdbb455327bdc8906b606da9c9a81bae1c81e/torch-1.1.0-cp36-cp36m-manylinux1_x86_64.whl (676.9MB)\n",
            "\u001b[K     |████████████████████████████████| 676.9MB 27kB/s \n",
            "\u001b[?25hCollecting torchvision==0.3.0\n",
            "\u001b[?25l  Downloading https://files.pythonhosted.org/packages/2e/45/0f2f3062c92d9cf1d5d7eabd3cae88cea9affbd2b17fb1c043627838cb0a/torchvision-0.3.0-cp36-cp36m-manylinux1_x86_64.whl (2.6MB)\n",
            "\u001b[K     |████████████████████████████████| 2.6MB 48.3MB/s \n",
            "\u001b[?25hCollecting path.py\n",
            "  Downloading https://files.pythonhosted.org/packages/8f/04/130b7a538c25693c85c4dee7e25d126ebf5511b1eb7320e64906687b159e/path.py-12.5.0-py3-none-any.whl\n",
            "Collecting opencv-python<4.0,>=3.0\n",
            "\u001b[?25l  Downloading https://files.pythonhosted.org/packages/f0/95/f6b2be6fd078f5fa870d241fd7ad4e40ab694f66dc2b10b216d1e0e0c2ba/opencv_python-3.4.13.47-cp36-cp36m-manylinux2014_x86_64.whl (48.6MB)\n",
            "\u001b[K     |████████████████████████████████| 48.6MB 58kB/s \n",
            "\u001b[?25hCollecting fast_slic\n",
            "\u001b[?25l  Downloading https://files.pythonhosted.org/packages/15/3b/7dee2167feda67e9cc6877d667939e5a44c42a006b1775b18d42c2fedcee/fast-slic-0.4.0.tar.gz (47kB)\n",
            "\u001b[K     |████████████████████████████████| 51kB 8.6MB/s \n",
            "\u001b[?25hCollecting tensorboardX\n",
            "\u001b[?25l  Downloading https://files.pythonhosted.org/packages/af/0c/4f41bcd45db376e6fe5c619c01100e9b7531c55791b7244815bac6eac32c/tensorboardX-2.1-py2.py3-none-any.whl (308kB)\n",
            "\u001b[K     |████████████████████████████████| 317kB 51.7MB/s \n",
            "\u001b[?25hRequirement already satisfied: pillow in /usr/local/lib/python3.6/dist-packages (from imageio->-r requirements.txt (line 1)) (6.2.2)\n",
            "Requirement already satisfied: numpy in /usr/local/lib/python3.6/dist-packages (from imageio->-r requirements.txt (line 1)) (1.19.4)\n",
            "Requirement already satisfied: kiwisolver>=1.0.1 in /usr/local/lib/python3.6/dist-packages (from matplotlib->-r requirements.txt (line 2)) (1.3.1)\n",
            "Requirement already satisfied: cycler>=0.10 in /usr/local/lib/python3.6/dist-packages (from matplotlib->-r requirements.txt (line 2)) (0.10.0)\n",
            "Requirement already satisfied: pyparsing!=2.0.4,!=2.1.2,!=2.1.6,>=2.0.1 in /usr/local/lib/python3.6/dist-packages (from matplotlib->-r requirements.txt (line 2)) (2.4.7)\n",
            "Requirement already satisfied: python-dateutil>=2.1 in /usr/local/lib/python3.6/dist-packages (from matplotlib->-r requirements.txt (line 2)) (2.8.1)\n",
            "Requirement already satisfied: PyWavelets>=0.4.0 in /usr/local/lib/python3.6/dist-packages (from scikit-image->-r requirements.txt (line 3)) (1.1.1)\n",
            "Requirement already satisfied: networkx>=2.0 in /usr/local/lib/python3.6/dist-packages (from scikit-image->-r requirements.txt (line 3)) (2.5)\n",
            "Requirement already satisfied: scipy>=0.19.0 in /usr/local/lib/python3.6/dist-packages (from scikit-image->-r requirements.txt (line 3)) (1.4.1)\n",
            "Requirement already satisfied: six in /usr/local/lib/python3.6/dist-packages (from torchvision==0.3.0->-r requirements.txt (line 6)) (1.15.0)\n",
            "Requirement already satisfied: path in /usr/local/lib/python3.6/dist-packages (from path.py->-r requirements.txt (line 8)) (15.0.1)\n",
            "Requirement already satisfied: protobuf>=3.8.0 in /usr/local/lib/python3.6/dist-packages (from tensorboardX->-r requirements.txt (line 11)) (3.12.4)\n",
            "Requirement already satisfied: decorator>=4.3.0 in /usr/local/lib/python3.6/dist-packages (from networkx>=2.0->scikit-image->-r requirements.txt (line 3)) (4.4.2)\n",
            "Requirement already satisfied: setuptools in /usr/local/lib/python3.6/dist-packages (from protobuf>=3.8.0->tensorboardX->-r requirements.txt (line 11)) (51.1.1)\n",
            "Building wheels for collected packages: fast-slic\n",
            "  Building wheel for fast-slic (setup.py) ... \u001b[?25l\u001b[?25hdone\n",
            "  Created wheel for fast-slic: filename=fast_slic-0.4.0-cp36-cp36m-linux_x86_64.whl size=1706424 sha256=fb6530909a2bc275c1761cdcb8845c1becebd14670ecab2560be54a4c3b246a7\n",
            "  Stored in directory: /root/.cache/pip/wheels/62/c2/b0/ee01a0fe61150e9a28681b7443d2885a4ea7f3ffb53ea66ea5\n",
            "Successfully built fast-slic\n",
            "\u001b[31mERROR: albumentations 0.1.12 has requirement imgaug<0.2.7,>=0.2.5, but you'll have imgaug 0.2.9 which is incompatible.\u001b[0m\n",
            "Installing collected packages: torch, torchvision, path.py, opencv-python, fast-slic, tensorboardX\n",
            "  Found existing installation: torch 1.7.0+cu101\n",
            "    Uninstalling torch-1.7.0+cu101:\n",
            "      Successfully uninstalled torch-1.7.0+cu101\n",
            "  Found existing installation: torchvision 0.8.1+cu101\n",
            "    Uninstalling torchvision-0.8.1+cu101:\n",
            "      Successfully uninstalled torchvision-0.8.1+cu101\n",
            "  Found existing installation: opencv-python 4.1.2.30\n",
            "    Uninstalling opencv-python-4.1.2.30:\n",
            "      Successfully uninstalled opencv-python-4.1.2.30\n",
            "Successfully installed fast-slic-0.4.0 opencv-python-3.4.13.47 path.py-12.5.0 tensorboardX-2.1 torch-1.1.0 torchvision-0.3.0\n"
          ],
          "name": "stdout"
        }
      ]
    },
    {
      "cell_type": "code",
      "metadata": {
        "colab": {
          "base_uri": "https://localhost:8080/"
        },
        "id": "amOqG3vedPi4",
        "outputId": "1c19e534-df7c-4bee-ff89-04c8aa1dddc5"
      },
      "source": [
        "cd models/correlation_package"
      ],
      "execution_count": 10,
      "outputs": [
        {
          "output_type": "stream",
          "text": [
            "/content/ARFlow/models/correlation_package\n"
          ],
          "name": "stdout"
        }
      ]
    },
    {
      "cell_type": "code",
      "metadata": {
        "colab": {
          "base_uri": "https://localhost:8080/"
        },
        "id": "k4Hc2zMsdUeK",
        "outputId": "f689356b-38b4-4f07-96cd-1adefdf0a7d1"
      },
      "source": [
        "!python3 setup.py install\r\n",
        "\r\n",
        "# Additional dependencies for training\r\n",
        "!apt-get update && apt-get install -y libsm6 libxext6 libxrender-dev\r\n",
        "!pip install 'opencv-python>=3.0,<4.0' path.py tensorboardX fast_slic"
      ],
      "execution_count": null,
      "outputs": [
        {
          "output_type": "stream",
          "text": [
            "running install\n",
            "running bdist_egg\n",
            "running egg_info\n",
            "creating correlation_cuda.egg-info\n",
            "writing correlation_cuda.egg-info/PKG-INFO\n",
            "writing dependency_links to correlation_cuda.egg-info/dependency_links.txt\n",
            "writing top-level names to correlation_cuda.egg-info/top_level.txt\n",
            "writing manifest file 'correlation_cuda.egg-info/SOURCES.txt'\n",
            "writing manifest file 'correlation_cuda.egg-info/SOURCES.txt'\n",
            "installing library code to build/bdist.linux-x86_64/egg\n",
            "running install_lib\n",
            "running build_ext\n",
            "building 'correlation_cuda' extension\n",
            "creating build\n",
            "creating build/temp.linux-x86_64-3.6\n",
            "x86_64-linux-gnu-gcc -pthread -DNDEBUG -g -fwrapv -O2 -Wall -g -fstack-protector-strong -Wformat -Werror=format-security -Wdate-time -D_FORTIFY_SOURCE=2 -fPIC -I/usr/local/lib/python3.6/dist-packages/torch/include -I/usr/local/lib/python3.6/dist-packages/torch/include/torch/csrc/api/include -I/usr/local/lib/python3.6/dist-packages/torch/include/TH -I/usr/local/lib/python3.6/dist-packages/torch/include/THC -I/usr/local/cuda/include -I/usr/include/python3.6m -c correlation_cuda.cc -o build/temp.linux-x86_64-3.6/correlation_cuda.o -std=c++11 -DTORCH_API_INCLUDE_EXTENSION_H -DTORCH_EXTENSION_NAME=correlation_cuda -D_GLIBCXX_USE_CXX11_ABI=0\n",
            "/usr/local/cuda/bin/nvcc -I/usr/local/lib/python3.6/dist-packages/torch/include -I/usr/local/lib/python3.6/dist-packages/torch/include/torch/csrc/api/include -I/usr/local/lib/python3.6/dist-packages/torch/include/TH -I/usr/local/lib/python3.6/dist-packages/torch/include/THC -I/usr/local/cuda/include -I/usr/include/python3.6m -c correlation_cuda_kernel.cu -o build/temp.linux-x86_64-3.6/correlation_cuda_kernel.o -D__CUDA_NO_HALF_OPERATORS__ -D__CUDA_NO_HALF_CONVERSIONS__ -D__CUDA_NO_HALF2_OPERATORS__ --compiler-options '-fPIC' -gencode arch=compute_50,code=sm_50 -gencode arch=compute_52,code=sm_52 -gencode arch=compute_60,code=sm_60 -gencode arch=compute_61,code=sm_61 -gencode arch=compute_61,code=compute_61 -ccbin /usr/bin/gcc -DTORCH_API_INCLUDE_EXTENSION_H -DTORCH_EXTENSION_NAME=correlation_cuda -D_GLIBCXX_USE_CXX11_ABI=0 -std=c++11\n",
            "/usr/local/lib/python3.6/dist-packages/torch/include/ATen/cuda/NumericLimits.cuh(83): warning: calling a constexpr __host__ function(\"from_bits\") from a __host__ __device__ function(\"lowest\") is not allowed. The experimental flag '--expt-relaxed-constexpr' can be used to allow this.\n",
            "\n",
            "/usr/local/lib/python3.6/dist-packages/torch/include/ATen/cuda/NumericLimits.cuh(84): warning: calling a constexpr __host__ function(\"from_bits\") from a __host__ __device__ function(\"max\") is not allowed. The experimental flag '--expt-relaxed-constexpr' can be used to allow this.\n",
            "\n",
            "/usr/local/lib/python3.6/dist-packages/torch/include/ATen/cuda/NumericLimits.cuh(85): warning: calling a constexpr __host__ function(\"from_bits\") from a __host__ __device__ function(\"lower_bound\") is not allowed. The experimental flag '--expt-relaxed-constexpr' can be used to allow this.\n",
            "\n",
            "/usr/local/lib/python3.6/dist-packages/torch/include/ATen/cuda/NumericLimits.cuh(86): warning: calling a constexpr __host__ function(\"from_bits\") from a __host__ __device__ function(\"upper_bound\") is not allowed. The experimental flag '--expt-relaxed-constexpr' can be used to allow this.\n",
            "\n",
            "/usr/local/lib/python3.6/dist-packages/torch/include/ATen/cuda/NumericLimits.cuh(83): warning: calling a constexpr __host__ function(\"from_bits\") from a __host__ __device__ function(\"lowest\") is not allowed. The experimental flag '--expt-relaxed-constexpr' can be used to allow this.\n",
            "\n",
            "/usr/local/lib/python3.6/dist-packages/torch/include/ATen/cuda/NumericLimits.cuh(84): warning: calling a constexpr __host__ function(\"from_bits\") from a __host__ __device__ function(\"max\") is not allowed. The experimental flag '--expt-relaxed-constexpr' can be used to allow this.\n",
            "\n",
            "/usr/local/lib/python3.6/dist-packages/torch/include/ATen/cuda/NumericLimits.cuh(85): warning: calling a constexpr __host__ function(\"from_bits\") from a __host__ __device__ function(\"lower_bound\") is not allowed. The experimental flag '--expt-relaxed-constexpr' can be used to allow this.\n",
            "\n",
            "/usr/local/lib/python3.6/dist-packages/torch/include/ATen/cuda/NumericLimits.cuh(86): warning: calling a constexpr __host__ function(\"from_bits\") from a __host__ __device__ function(\"upper_bound\") is not allowed. The experimental flag '--expt-relaxed-constexpr' can be used to allow this.\n",
            "\n",
            "/usr/local/lib/python3.6/dist-packages/torch/include/ATen/cuda/NumericLimits.cuh(83): warning: calling a constexpr __host__ function(\"from_bits\") from a __host__ __device__ function(\"lowest\") is not allowed. The experimental flag '--expt-relaxed-constexpr' can be used to allow this.\n",
            "\n",
            "/usr/local/lib/python3.6/dist-packages/torch/include/ATen/cuda/NumericLimits.cuh(84): warning: calling a constexpr __host__ function(\"from_bits\") from a __host__ __device__ function(\"max\") is not allowed. The experimental flag '--expt-relaxed-constexpr' can be used to allow this.\n",
            "\n",
            "/usr/local/lib/python3.6/dist-packages/torch/include/ATen/cuda/NumericLimits.cuh(85): warning: calling a constexpr __host__ function(\"from_bits\") from a __host__ __device__ function(\"lower_bound\") is not allowed. The experimental flag '--expt-relaxed-constexpr' can be used to allow this.\n",
            "\n",
            "/usr/local/lib/python3.6/dist-packages/torch/include/ATen/cuda/NumericLimits.cuh(86): warning: calling a constexpr __host__ function(\"from_bits\") from a __host__ __device__ function(\"upper_bound\") is not allowed. The experimental flag '--expt-relaxed-constexpr' can be used to allow this.\n",
            "\n",
            "/usr/local/lib/python3.6/dist-packages/torch/include/ATen/cuda/NumericLimits.cuh(83): warning: calling a constexpr __host__ function(\"from_bits\") from a __host__ __device__ function(\"lowest\") is not allowed. The experimental flag '--expt-relaxed-constexpr' can be used to allow this.\n",
            "\n",
            "/usr/local/lib/python3.6/dist-packages/torch/include/ATen/cuda/NumericLimits.cuh(84): warning: calling a constexpr __host__ function(\"from_bits\") from a __host__ __device__ function(\"max\") is not allowed. The experimental flag '--expt-relaxed-constexpr' can be used to allow this.\n",
            "\n",
            "/usr/local/lib/python3.6/dist-packages/torch/include/ATen/cuda/NumericLimits.cuh(85): warning: calling a constexpr __host__ function(\"from_bits\") from a __host__ __device__ function(\"lower_bound\") is not allowed. The experimental flag '--expt-relaxed-constexpr' can be used to allow this.\n",
            "\n",
            "/usr/local/lib/python3.6/dist-packages/torch/include/ATen/cuda/NumericLimits.cuh(86): warning: calling a constexpr __host__ function(\"from_bits\") from a __host__ __device__ function(\"upper_bound\") is not allowed. The experimental flag '--expt-relaxed-constexpr' can be used to allow this.\n",
            "\n"
          ],
          "name": "stdout"
        }
      ]
    },
    {
      "cell_type": "code",
      "metadata": {
        "colab": {
          "base_uri": "https://localhost:8080/"
        },
        "id": "3e_iL1pldd42",
        "outputId": "68cd26ef-bd7f-45d8-e6b9-23bf6846ad64"
      },
      "source": [
        "cd ../../"
      ],
      "execution_count": 8,
      "outputs": [
        {
          "output_type": "stream",
          "text": [
            "/content/ARFlow\n"
          ],
          "name": "stdout"
        }
      ]
    },
    {
      "cell_type": "code",
      "metadata": {
        "id": "prsD0bFsJsqr"
      },
      "source": [
        "import cv2\n",
        "import numpy as np \n",
        "\n",
        "from PIL import Image\n",
        "import os, sys\n",
        "\n",
        "path = ('/content/drive/MyDrive/Images/')\n",
        "dirs = os.listdir( path )\n",
        "\n",
        "def resize():\n",
        "    for item in dirs:\n",
        "        if os.path.isfile(path+item):\n",
        "            im = Image.open(path+item)\n",
        "            f, e = os.path.splitext(path+item)\n",
        "            imResize = im.resize((640,384), Image.ANTIALIAS)\n",
        "            imResize.save('/content/ARFlow/Data/'+item, 'PNG', quality=90)\n",
        "\n",
        "resize()\n",
        "\n",
        " "
      ],
      "execution_count": 20,
      "outputs": []
    },
    {
      "cell_type": "code",
      "metadata": {
        "id": "yM7FkKeDfMsA"
      },
      "source": [
        "import cv2\r\n",
        "import numpy as np \r\n",
        "\r\n",
        "from PIL import Image\r\n",
        "import os, sys\r\n",
        "\r\n",
        "path = ('/content/drive/MyDrive/Images/')\r\n",
        "\r\n",
        "def resize():\r\n",
        "for item in os.listdir(path):\r\n",
        "    if os.path.isfile(item):\r\n",
        "        im = Image.open(item)\r\n",
        "        f, e = os.path.splitext(item)\r\n",
        "        imResize = im.resize((200,200), Image.ANTIALIAS)\r\n",
        "        imResize.save(f + ' resized.png', '', quality=90)\r\n",
        "\r\n",
        "resize()\r\n",
        " \r\n",
        "a=cv2.imread(\"NATL_AN_2016-01-07.png\").astype(np.float32) / 255\r\n",
        "print(a.shape)\r\n",
        "import matplotlib.pyplot as plt\r\n",
        "o=cv2.resize(a,(640,384))\r\n",
        "\r\n",
        "o -= o.mean()\r\n",
        "o /= o.std()\r\n",
        "plt.imshow(o)\r\n",
        "plt.show()\r\n",
        "print(o.shape)\r\n",
        "cv2.imwrite('examples/nat1.jpg',o) \r\n",
        "\r\n",
        "a=cv2.imread(\"/content/drive/MyDrive/Images/NATL_AN_2016-01-08.png\").astype(np.float32) / 255\r\n",
        "print(a.shape)\r\n",
        "import matplotlib.pyplot as plt\r\n",
        "o=cv2.resize(a,(640,384))\r\n",
        "print(o.shape)\r\n",
        "o -= o.mean()\r\n",
        "o /= o.std()\r\n",
        "cv2.imwrite('examples/nat2.jpg',o) \r\n",
        "plt.imshow(o)\r\n",
        "plt.show()\r\n",
        "\r\n",
        "a=cv2.imread(\"/content/drive/MyDrive/Images/NATL_AN_2016-01-09.png\").astype(np.float32) / 255\r\n",
        "print(a.shape)\r\n",
        "import matplotlib.pyplot as plt\r\n",
        "o=cv2.resize(a,(640,384))\r\n",
        "print(o.shape)\r\n",
        "o -= o.mean()\r\n",
        "o /= o.std()\r\n",
        "cv2.imwrite('examples/nat3.jpg',o) \r\n",
        "plt.imshow(o)\r\n",
        "plt.show()"
      ],
      "execution_count": 14,
      "outputs": []
    },
    {
      "cell_type": "code",
      "metadata": {
        "id": "AAry2jK1fXjQ"
      },
      "source": [
        "from PIL import Image\r\n",
        "import os, sys\r\n",
        "\r\n",
        "path = ('/content/ARFlow/Data')\r\n",
        "dirs = os.listdir( path )\r\n",
        "\r\n",
        "def resize():\r\n",
        "    ind=0\r\n",
        "    for item in dirs:\r\n",
        "        if os.path.isfile(path+item):\r\n",
        "          !python3 inference.py -m checkpoints/KITTI15/pwclite_ar.tar -s 384 640 \\ -i Data/item examples/item+1 -r ind\r\n",
        "         \r\n",
        "            \r\n",
        "    ind=ind+1"
      ],
      "execution_count": 32,
      "outputs": []
    },
    {
      "cell_type": "code",
      "metadata": {
        "id": "x4Ia6jkjgLgt"
      },
      "source": [
        ""
      ],
      "execution_count": null,
      "outputs": []
    },
    {
      "cell_type": "code",
      "metadata": {
        "colab": {
          "base_uri": "https://localhost:8080/"
        },
        "id": "3VjsBInkXmP1",
        "outputId": "58f9e272-055c-49d5-9f20-5443e9fe6b26"
      },
      "source": [
        "!python3 inference.py -m checkpoints/KITTI15/pwclite_ar_mv.tar -s 384 640 \\\n",
        "  -i examples/nat1.jpg examples/nat2.jpg examples/nat3.jpg"
      ],
      "execution_count": 11,
      "outputs": [
        {
          "output_type": "stream",
          "text": [
            "  File \"inference.py\", line 72\n",
            "    cv2.\n",
            "       ^\n",
            "SyntaxError: invalid syntax\n"
          ],
          "name": "stdout"
        }
      ]
    },
    {
      "cell_type": "code",
      "metadata": {
        "id": "pCKYLJeneGuE"
      },
      "source": [
        ""
      ],
      "execution_count": null,
      "outputs": []
    }
  ]
}